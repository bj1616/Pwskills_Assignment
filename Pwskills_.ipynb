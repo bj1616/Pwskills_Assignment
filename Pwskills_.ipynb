{
  "cells": [
    {
      "cell_type": "markdown",
      "metadata": {},
      "source": [
        "Question 1.3.\n",
        "name = [\"Mohan\", \"dash\", \"karam\", \"chandra\",\"gandhi\",\"Bapu\"]\n",
        "do the following operations in this list;\n",
        "\n",
        "a) add an element \"freedom_fighter\" in this list at the 0th index.\n",
        "\n",
        "b) find the output of the following ,and explain how?\n",
        "\n",
        "name = [“freedomFighter”,\"Bapuji\",\"MOhan\" \"dash\", \"karam\",\n",
        "\"chandra\",\"gandhi\"]\n",
        "length1=len((name[-len(name)+1:-1:2]))\n",
        "length2=len((name[-len(name)+1:-1]))\n",
        "print(length1+length2)\n",
        "\n",
        "c) add two more elements in the name [\"NetaJi\",\"Bose\"] at the end of the list.\n",
        "\n",
        "d) what will be the value of temp:\n",
        "\n",
        "name = [\"Bapuji\", \"dash\", \"karam\", \"chandra\",\"gandi\",\"Mohan\"]\n",
        "temp=name[-1]\n",
        "name[-1]=name[0]\n",
        "name[0]=temp\n",
        "print(name)"
      ]
    },
    {
      "cell_type": "code",
      "execution_count": 6,
      "metadata": {},
      "outputs": [
        {
          "name": "stdout",
          "output_type": "stream",
          "text": [
            "['freedom_fighter', 'Mohan', 'dash', 'karam', 'chandra', 'gandhi', 'Bapu']\n"
          ]
        }
      ],
      "source": [
        "name = [\"Mohan\", \"dash\", \"karam\", \"chandra\",\"gandhi\",\"Bapu\"]\n",
        "\n",
        "# a) add an element \"freedom_fighter\" in this list at the 0th index.\n",
        "\n",
        "name.insert(0,\"freedom_fighter\")\n",
        "print(name)"
      ]
    },
    {
      "cell_type": "code",
      "execution_count": 7,
      "metadata": {},
      "outputs": [
        {
          "name": "stdout",
          "output_type": "stream",
          "text": [
            "8\n"
          ]
        }
      ],
      "source": [
        "# ''''''b) find the output of the following ,and explain how?\n",
        "\n",
        "# name = [“freedomFighter”,\"Bapuji\",\"MOhan\" \"dash\", \"karam\",\"chandra\",\"gandhi\"]\n",
        "# length1=len((name[-len(name)+1:-1:2]))\n",
        "# length2=len((name[-len(name)+1:-1]))\n",
        "# print(length1+length2)\"\"\"\n",
        "\n",
        "\n",
        "\n",
        "name = [\"freedomFighter\",\"Bapuji\",\"MOhan\" ,\"dash\", \"karam\",\"chandra\",\"gandhi\"]\n",
        "length1=len((name[-len(name)+1:-1:2]))\n",
        "length2=len((name[-len(name)+1:-1]))\n",
        "print(length1+length2)\n",
        "\n",
        "\n",
        "# Explanation:\n",
        "\n",
        "# List Creation:\n",
        "\n",
        "# A list named name is created containing seven elements.\n",
        "# Calculating length1:\n",
        "\n",
        "# name[-len(name)+1] is equivalent to name[0], which is the first element of the list.\n",
        "# name[-1] is the last element of the list.\n",
        "# name[-len(name)+1:-1:2] creates a slice of the list starting from the first element, excluding the last element, and taking every second element. This slice is [\"Bapuji\", \"dash\", \"chandra\"].\n",
        "# len((name[-len(name)+1:-1:2])) calculates the length of this slice, which is 3.\n",
        "# Calculating length2:\n",
        "\n",
        "# name[-len(name)+1:-1] creates a slice of the list starting from the first element, excluding the last element. This slice is [\"Bapuji\", \"Mohan\", \"dash\", \"karam\", \"chandra\"].\n",
        "# len((name[-len(name)+1:-1])) calculates the length of this slice, which is 5.\n",
        "# Calculating length1 + length2:\n",
        "\n",
        "# The sum of length1 (3) and length2 (5) is 8."
      ]
    },
    {
      "cell_type": "code",
      "execution_count": 8,
      "metadata": {},
      "outputs": [
        {
          "name": "stdout",
          "output_type": "stream",
          "text": [
            "['freedomFighter', 'Bapuji', 'MOhan', 'dash', 'karam', 'chandra', 'gandhi', 'Netaji', 'Bose']\n"
          ]
        }
      ],
      "source": [
        "# c) add two more elements in the name [\"NetaJi\",\"Bose\"] at the end of the list.\n",
        "name.append(\"Netaji\")\n",
        "name.append(\"Bose\")\n",
        "print(name)"
      ]
    },
    {
      "cell_type": "code",
      "execution_count": 9,
      "metadata": {},
      "outputs": [
        {
          "name": "stdout",
          "output_type": "stream",
          "text": [
            "['Mohan', 'dash', 'karam', 'chandra', 'gandi', 'Bapuji']\n"
          ]
        }
      ],
      "source": [
        "# d) what will be the value of temp:\n",
        "\n",
        "# name = [\"Bapuji\", \"dash\", \"karam\", \"chandra\",\"gandi\",\"Mohan\"]\n",
        "# temp=name[-1]\n",
        "# name[-1]=name[0]\n",
        "# name[0]=temp\n",
        "# print(name)\n",
        "\n",
        "name = [\"Bapuji\", \"dash\", \"karam\", \"chandra\",\"gandi\",\"Mohan\"]\n",
        "temp=name[-1]\n",
        "name[-1]=name[0]\n",
        "name[0]=temp\n",
        "print(name)\n",
        "\n",
        "# Value of temp is \"Mohan\""
      ]
    },
    {
      "cell_type": "markdown",
      "metadata": {},
      "source": [
        "Question 1.4.Find the output of the following.\n",
        "\n",
        "animal = ['Human','cat','mat','cat','rat','Human', 'Lion']\n",
        "\n",
        "print(animal.count('Human'))\n",
        "\n",
        "print(animal.index('rat'))\n",
        "\n",
        "print(len(animal))"
      ]
    },
    {
      "cell_type": "code",
      "execution_count": 10,
      "metadata": {},
      "outputs": [
        {
          "name": "stdout",
          "output_type": "stream",
          "text": [
            "2\n",
            "4\n",
            "7\n"
          ]
        }
      ],
      "source": [
        "animal = ['Human','cat','mat','cat','rat','Human', 'Lion']\n",
        "print(animal.count('Human'))\n",
        "\n",
        "print(animal.index('rat'))\n",
        "\n",
        "print(len(animal))"
      ]
    },
    {
      "cell_type": "markdown",
      "metadata": {},
      "source": [
        "Question 1.5. tuple1=(10,20,\"Apple\",3.4,'a',[\"master\",\"ji\"],(\"sita\",\"geeta\",22),[{\"roll_no\"N1},\n",
        "{\"name\"N\"Navneet\"}])\n",
        "\n",
        "a)Print(len(tuple1)\n",
        "\n",
        "b)Print(tuple1[-1][-1][\"name\"])\n",
        "\n",
        "c)fetch the value of roll_no from this tuple.\n",
        "\n",
        "d)Print(tuple1[-3][1])\n",
        "\n",
        "e)fetch the element \"22\" from this tuple."
      ]
    },
    {
      "cell_type": "code",
      "execution_count": 12,
      "metadata": {},
      "outputs": [
        {
          "name": "stdout",
          "output_type": "stream",
          "text": [
            "8\n",
            "Navneet\n",
            "1\n",
            "ji\n",
            "22\n"
          ]
        }
      ],
      "source": [
        "tuple1=(10,20,\"Apple\",3.4,'a',[\"master\",\"ji\"],(\"sita\",\"geeta\",22),[{\"roll_no\":1},{\"name\":\"Navneet\"}])\n",
        "\n",
        "#a)Print(len(tuple1)\n",
        "print(len(tuple1))\n",
        "\n",
        "#b)Print(tuple1[-1][-1][\"name\"])\n",
        "print(tuple1[-1][-1][\"name\"])\n",
        "\n",
        "#c)fetch the value of roll_no from this tuple.\n",
        "print(tuple1[7][0][\"roll_no\"])\n",
        "\n",
        "#d)Print(tuple1[-3][1])\n",
        "print(tuple1[-3][1])\n",
        "\n",
        "#e)fetch the element \"22\" from this tuple.\n",
        "print(tuple1[6][2])\n",
        "\n"
      ]
    },
    {
      "cell_type": "markdown",
      "metadata": {},
      "source": [
        "1.6. Write a program to display the appropriate message as per the color of signal(RED-Stop/Yellow-Stay/\n",
        "Green-Go) at the road crossing."
      ]
    },
    {
      "cell_type": "code",
      "execution_count": 13,
      "metadata": {},
      "outputs": [
        {
          "name": "stdout",
          "output_type": "stream",
          "text": [
            "Stop\n"
          ]
        }
      ],
      "source": [
        "signal = input(\"Enter the Signal : \")\n",
        "if(signal==\"Red\"):\n",
        "    print(\"Stop\")\n",
        "elif(signal==\"Yellow\"):\n",
        "    print(\"Stay\")\n",
        "elif(signal==\"Green\"):\n",
        "    print(\"Go\")"
      ]
    },
    {
      "cell_type": "markdown",
      "metadata": {},
      "source": [
        "1.7. Write a program to create a simple calculator performing only four basic operations(+,-,/,*) ."
      ]
    },
    {
      "cell_type": "code",
      "execution_count": 15,
      "metadata": {},
      "outputs": [
        {
          "name": "stdout",
          "output_type": "stream",
          "text": [
            "Addition of 8 and 4 is : 12\n",
            "Subtraction of 8 and 4 is : 4\n",
            "Multiplication of 8 and 4 is : 32\n",
            "Division of 8 and 4 is : 2.0\n"
          ]
        }
      ],
      "source": [
        "num1 = int(input(\"Enter the number 1 : \"))\n",
        "num2 = int(input(\"Enter the number 2 : \"))\n",
        "print(f\"Addition of {num1} and {num2} is : {num1+num2}\")\n",
        "print(f\"Subtraction of {num1} and {num2} is : {num1-num2}\")\n",
        "print(f\"Multiplication of {num1} and {num2} is : {num1*num2}\")\n",
        "print(f\"Division of {num1} and {num2} is : {num1/num2}\")"
      ]
    },
    {
      "cell_type": "markdown",
      "metadata": {},
      "source": [
        "1.8. Write a program to find the larger of the three pre-specified numbers using ternary operators."
      ]
    },
    {
      "cell_type": "code",
      "execution_count": 17,
      "metadata": {},
      "outputs": [
        {
          "name": "stdout",
          "output_type": "stream",
          "text": [
            "Largest number from 7, 4 and 2 is 7\n"
          ]
        }
      ],
      "source": [
        "num1 = int(input(\"Enter the first number : \"))\n",
        "num2 = int(input(\"Enter the second number : \"))\n",
        "num3 = int(input(\"Enter the third number : \"))\n",
        "res = num1 if num1>num2 else num2\n",
        "res = res if res>num3 else num3\n",
        "print(f\"Largest number from {num1}, {num2} and {num3} is {res}\")"
      ]
    },
    {
      "cell_type": "markdown",
      "metadata": {},
      "source": [
        "1.9. Write a program to find the factors of a whole number using a while loop."
      ]
    },
    {
      "cell_type": "code",
      "execution_count": 18,
      "metadata": {},
      "outputs": [
        {
          "name": "stdout",
          "output_type": "stream",
          "text": [
            "Factors of 24 are [1, 2, 3, 4, 6, 8, 12, 24]\n"
          ]
        }
      ],
      "source": [
        "factors = []\n",
        "factor = 1\n",
        "num1 = int(input(\"Enter the number : \"))\n",
        "while(factor<=num1):\n",
        "    if(num1%factor==0):\n",
        "        factors.append(factor)\n",
        "    factor = factor+1\n",
        "print(f\"Factors of {num1} are {factors}\")"
      ]
    },
    {
      "cell_type": "markdown",
      "metadata": {},
      "source": [
        "1.10. Write a program to find the sum of all the positive numbers entered by the user. As soon as the user\n",
        "enters a negative number, stop taking in any further input from the user and display the sum ."
      ]
    },
    {
      "cell_type": "code",
      "execution_count": 19,
      "metadata": {},
      "outputs": [
        {
          "name": "stdout",
          "output_type": "stream",
          "text": [
            "Sum of all positive numbers are :  55\n"
          ]
        }
      ],
      "source": [
        "sum = 0\n",
        "while True:\n",
        "    num = int(input(\"Enter the Number : \"))\n",
        "    if(num<0):\n",
        "        break\n",
        "    else:\n",
        "        sum = sum + num \n",
        "print(\"Sum of all positive numbers are : \",sum)"
      ]
    },
    {
      "cell_type": "markdown",
      "metadata": {},
      "source": [
        "1.11. Write a program to find prime numbers between 2 to 100 using nested for loops."
      ]
    },
    {
      "cell_type": "code",
      "execution_count": 20,
      "metadata": {},
      "outputs": [
        {
          "name": "stdout",
          "output_type": "stream",
          "text": [
            "Prime numbers between 2 to 100 are [2, 3, 5, 7, 11, 13, 17, 19, 23, 29, 31, 37, 41, 43, 47, 53, 59, 61, 67, 71, 73, 79, 83, 89, 97]\n"
          ]
        }
      ],
      "source": [
        "primes = []\n",
        "for i in range(2,101):\n",
        "    prime = True\n",
        "    for j in range(2,i):\n",
        "        if(i%j==0):\n",
        "            prime = False\n",
        "            break\n",
        "    if prime:\n",
        "        primes.append(i)\n",
        "print(f\"Prime numbers between 2 to 100 are {primes}\")\n"
      ]
    },
    {
      "cell_type": "markdown",
      "metadata": {},
      "source": [
        "1.12. Write the programs for the following\n",
        "\n",
        " Accept the marks of the student in five major subjects and display the same.\n",
        "\n",
        " Calculate the sum of the marks of all subjects.Divide the total marks by number of subjects (i.e. 5), calculate\n",
        "Percentage = total marks/5 and display the percentage.\n",
        "\n",
        " Find the grade of the student as per the following criteria . Hint: Use Match & case for this.:"
      ]
    },
    {
      "cell_type": "code",
      "execution_count": 23,
      "metadata": {},
      "outputs": [
        {
          "name": "stdout",
          "output_type": "stream",
          "text": [
            "Marks of maths are :  23\n",
            "Marks of science are :  22\n",
            "Marks of english are :  22\n",
            "Marks of pt are :  22\n",
            "Marks of hindi are :  22\n",
            "Sum of all 5 subjects are :  111\n",
            "Marks after Divison is :  22.2\n",
            "Percentage of student is :  22.2\n",
            "Reappear\n"
          ]
        }
      ],
      "source": [
        "maths = int(input(\"Enter the marks of Maths : \"))\n",
        "science = int(input(\"Enter the marks of Science : \"))\n",
        "english = int(input(\"Enter the marks of english : \"))\n",
        "pt = int(input(\"Enter the marks of PT : \"))\n",
        "hindi = int(input(\"Enter the marks of Hindi : \"))\n",
        "print(\"Marks of maths are : \", maths)\n",
        "print(\"Marks of science are : \", science)\n",
        "print(\"Marks of english are : \", english)\n",
        "print(\"Marks of pt are : \", pt)\n",
        "print(\"Marks of hindi are : \", hindi)\n",
        "sum = maths+science+english+pt+hindi\n",
        "print(\"Sum of all 5 subjects are : \", sum)\n",
        "print(\"Marks after Divison is : \" , sum/5)\n",
        "percentage = (sum/5)\n",
        "print(\"Percentage of student is : \" , percentage)\n",
        "if(percentage>85):\n",
        "    print(\"A Grade\")\n",
        "elif(percentage<85 and percentage>=75):\n",
        "    print(\"B Grade\")\n",
        "elif(percentage<75 and percentage>=50):\n",
        "    print(\"C Grade\")\n",
        "elif(percentage<50 and percentage>=30):\n",
        "    print(\"D Grade\")\n",
        "elif(percentage<30):\n",
        "    print(\"Reappear\")"
      ]
    },
    {
      "attachments": {
        "image.png": {
          "image/png": "[encoded data removed]"
        }
      },
      "cell_type": "markdown",
      "metadata": {},
      "source": [
        "1.13. Write a program for VIBGYOR Spectrum based on their Wavelength using.\n",
        "Wavelength Range:\n",
        "\n",
        "\n",
        "![image.png](attachment:image.png)"
      ]
    },
    {
      "cell_type": "code",
      "execution_count": 4,
      "metadata": {},
      "outputs": [
        {
          "name": "stdout",
          "output_type": "stream",
          "text": [
            "Red\n"
          ]
        }
      ],
      "source": [
        "def spectrum(wavelength):\n",
        "    if wavelength>=400  and wavelength<440:\n",
        "        print(\"Violet\")\n",
        "    elif wavelength>=440  and wavelength<460:\n",
        "        print(\"Indigo\")\n",
        "    elif wavelength>=460  and wavelength<500:\n",
        "        print(\"Blue\")\n",
        "    elif wavelength>=500  and wavelength<570:\n",
        "        print(\"Green\")\n",
        "    elif wavelength>=570  and wavelength<590:\n",
        "        print(\"Yellow\")\n",
        "    elif wavelength>=590  and wavelength<620:\n",
        "        print(\"Orange\")\n",
        "    elif wavelength>=620  and wavelength<720:\n",
        "        print(\"Red\")\n",
        "    else:\n",
        "        print(\"Invalid Input\")\n",
        "\n",
        "wavelength = float(input(\"Enter the wavelength between 400.0 to 720.0 nm\"))\n",
        "spectrum(wavelength)"
      ]
    },
    {
      "cell_type": "markdown",
      "metadata": {},
      "source": [
        "1.14.Consider the gravitational interactions between the Earth, Moon, and Sun in our solar system.\n",
        "\n",
        "Given:\n",
        "\n",
        "mass_earth = 5.972e24 # Mass of Earth in kilograms\n",
        "\n",
        "mass_moon = 7.34767309e22 # Mass of Moon in kilograms\n",
        "\n",
        "mass_sun = 1.989e30 # Mass of Sun in kilograms\n",
        "\n",
        "distance_earth_sun = 1.496e # Average distance between Earth and Sun in meters\n",
        "\n",
        "distance_moon_earth = 3.844e8 # Average distance between Moon and Earth in meters\n",
        "\n",
        "Tasks\n",
        "\n",
        "/ CalCulate the gravitational for0e between the Earth and the Sun\n",
        "\n",
        "/ CalCulate the gravitational for0e between the Moon and the Earth\n",
        "\n",
        "/ Compare the Calculated for0es to determine whi0h gravitational for0e is stronger\n",
        "\n",
        "/ Explain whi0h Celestial body (Earth or Moon is more attracted to the other based on the Comparison."
      ]
    },
    {
      "cell_type": "code",
      "execution_count": 5,
      "metadata": {},
      "outputs": [
        {
          "name": "stdout",
          "output_type": "stream",
          "text": [
            "The Earth is more attracted to the Sun.\n"
          ]
        }
      ],
      "source": [
        "G = 6.67430e-11  \n",
        "mass_earth = 5.972e24  \n",
        "mass_moon = 7.34767309e22  \n",
        "mass_sun = 1.989e30  \n",
        "distance_earth_sun = 1.496e11  \n",
        "distance_moon_earth = 3.844e8  \n",
        "\n",
        "\n",
        "F_earth_sun = G * (mass_earth * mass_sun) / (distance_earth_sun ** 2)\n",
        "F_moon_earth = G * (mass_moon * mass_earth) / (distance_moon_earth ** 2)\n",
        "\n",
        "\n",
        "if F_earth_sun > F_moon_earth:\n",
        "    print(\"The Earth is more attracted to the Sun.\")\n",
        "elif F_moon_earth > F_earth_sun:\n",
        "    print(\"The Earth is more attracted to the Moon.\")\n",
        "else:\n",
        "    print(\"The gravitational forces are equal.\")"
      ]
    },
    {
      "cell_type": "markdown",
      "metadata": {},
      "source": [
        "4. Design and implement a Python program for managing student information using object-oriented\n",
        "principles. Create a class called `Student` with encapsulated attributes for name, age, and roll number.\n",
        "Implement getter and setter methods for these attributes. Additionally, provide methods to display student\n",
        "information and update student details.\n",
        "\n",
        "Tasks\n",
        "\n",
        "Define the `Student` class with encapsulated attributes\n",
        "\n",
        "Implement getter and setter methods for the attributes\n",
        "\n",
        "Write methods to display student information and update details\n",
        "\n",
        "Create instances of the `Student` class and test the implemented functionality"
      ]
    },
    {
      "cell_type": "code",
      "execution_count": 1,
      "metadata": {},
      "outputs": [
        {
          "name": "stdout",
          "output_type": "stream",
          "text": [
            "Name: Alice\n",
            "Age: 20\n",
            "Roll Number: 101\n",
            "Name: Bob\n",
            "Age: 22\n",
            "Roll Number: 102\n",
            "Name: Alice Smith\n",
            "Age: 21\n",
            "Roll Number: 103\n"
          ]
        }
      ],
      "source": [
        "class Student:\n",
        "    def __init__(self, name, age, roll_number):\n",
        "        self.__name = name\n",
        "        self.__age = age\n",
        "        self.__roll_number = roll_number\n",
        "\n",
        "    \n",
        "    def get_name(self):\n",
        "        return self.__name\n",
        "\n",
        "    def get_age(self):\n",
        "        return self.__age\n",
        "\n",
        "    def get_roll_number(self):\n",
        "        return self.__roll_number\n",
        "\n",
        "    \n",
        "    def set_name(self, name):\n",
        "        self.__name = name\n",
        "\n",
        "    def set_age(self, age):\n",
        "        self.__age = age\n",
        "\n",
        "    def set_roll_number(self, roll_number):\n",
        "        self.__roll_number = roll_number\n",
        "\n",
        "    def display_information(self):\n",
        "        print(\"Name:\", self.__name)\n",
        "        print(\"Age:\", self.__age)\n",
        "        print(\"Roll Number:\", self.__roll_number)\n",
        "\n",
        "    \n",
        "    def update_details(self, new_name, new_age, new_roll_number):\n",
        "        self.__name = new_name\n",
        "        self.__age = new_age\n",
        "        self.__roll_number = new_roll_number\n",
        "\n",
        "\n",
        "student1 = Student(\"Alice\", 20, 101)\n",
        "student2 = Student(\"Bob\", 22, 102)\n",
        "\n",
        "\n",
        "student1.display_information()\n",
        "student2.display_information()\n",
        "\n",
        "\n",
        "student1.update_details(\"Alice Smith\", 21, 103)\n",
        "\n",
        "\n",
        "student1.display_information()"
      ]
    },
    {
      "cell_type": "markdown",
      "metadata": {},
      "source": [
        "3.Develop a Python program for managing library resources efficiently. Design a class named `LibraryBoo`\n",
        "with attributes lie boo name, author, and availability status. Implement methods for borrowing and\n",
        "returning boos while ensuring proper encapsulation of attributes.\n",
        "Tasks\n",
        "1. Create the `LibraryBook` class with encapsulated attributes\n",
        "2. Implement methods for borrowing and returning books\n",
        "3. Ensure proper encapsulation to protect book details\n",
        "4. Test the borrowing and returning functionality with sample data."
      ]
    },
    {
      "cell_type": "code",
      "execution_count": 3,
      "metadata": {},
      "outputs": [
        {
          "name": "stdout",
          "output_type": "stream",
          "text": [
            "The Great Gatsby borrowed successfully.\n",
            "To Kill a Mockingbird borrowed successfully.\n",
            "The Great Gatsby is currently unavailable.\n",
            "The Great Gatsby returned successfully.\n",
            "The Great Gatsby borrowed successfully.\n"
          ]
        }
      ],
      "source": [
        "class LibraryBook:\n",
        "    def __init__(self, book_name, author):\n",
        "        self.__book_name = book_name\n",
        "        self.__author = author\n",
        "        self.__available = True\n",
        "\n",
        "    def get_book_name(self):\n",
        "        return self.__book_name\n",
        "\n",
        "    def get_author(self):\n",
        "        return self.__author\n",
        "\n",
        "    def is_available(self):\n",
        "        return self.__available\n",
        "\n",
        "    def borrow(self):\n",
        "        if self.__available:\n",
        "            self.__available = False\n",
        "            print(f\"{self.__book_name} borrowed successfully.\")\n",
        "        else:\n",
        "            print(f\"{self.__book_name} is currently unavailable.\")\n",
        "\n",
        "    def return_book(self):\n",
        "        if not self.__available:\n",
        "            self.__available = True\n",
        "            print(f\"{self.__book_name} returned successfully.\")\n",
        "        else:\n",
        "            print(f\"{self.__book_name} is already available.\")\n",
        "\n",
        "book1 = LibraryBook(\"The Great Gatsby\", \"F. Scott Fitzgerald\")\n",
        "book2 = LibraryBook(\"To Kill a Mockingbird\", \"Harper Lee\")\n",
        "\n",
        "book1.borrow()\n",
        "book2.borrow()\n",
        "book1.borrow()  \n",
        "book1.return_book()\n",
        "book1.borrow()"
      ]
    },
    {
      "cell_type": "markdown",
      "metadata": {},
      "source": [
        "4.Create a simple baning system using object-oriented concepts in Python. Design classes representing\n",
        "different types of ban accounts such as savings and checing. Implement methods for deposit, withdraw,\n",
        "and balance inquiry. Utilize inheritance to manage different account types efficiently.\n",
        "Tasks\n",
        "1. Define base class(es) for bank accounts with common attributes and methods\n",
        "2. Implement subclasses for specific account types (e.g., SavingsAccount, CheckingAccount)\n",
        "3. Provide methods for deposit, withdraw, and balance inquiry in each subclass\n",
        "4. Test the banking system by creating instances of different account types and performing transactions."
      ]
    },
    {
      "cell_type": "code",
      "execution_count": 5,
      "metadata": {},
      "outputs": [
        {
          "name": "stdout",
          "output_type": "stream",
          "text": [
            "\n",
            "--- Savings Account ---\n",
            "Deposited $200. New balance: $700\n",
            "Withdrew $100. New balance: $600\n",
            "Interest added: $12.0. New balance: $612.0\n",
            "Current balance: $612.0\n",
            "\n",
            "--- Checking Account ---\n",
            "Deposited $150. New balance: $450\n",
            "Withdrew $400. New balance: $50\n",
            "Insufficient balance or exceeds overdraft limit.\n",
            "Current balance: $50\n"
          ]
        }
      ],
      "source": [
        "class BankAccount:\n",
        "    def __init__(self, account_number, account_holder, balance=0):\n",
        "        self.account_number = account_number\n",
        "        self.account_holder = account_holder\n",
        "        self.balance = balance\n",
        "\n",
        "    def deposit(self, amount):\n",
        "        if amount > 0:\n",
        "            self.balance += amount\n",
        "            print(f\"Deposited ${amount}. New balance: ${self.balance}\")\n",
        "        else:\n",
        "            print(\"Deposit amount must be positive.\")\n",
        "\n",
        "    def withdraw(self, amount):\n",
        "        if amount > 0 and amount <= self.balance:\n",
        "            self.balance -= amount\n",
        "            print(f\"Withdrew ${amount}. New balance: ${self.balance}\")\n",
        "        else:\n",
        "            print(\"Insufficient balance or invalid amount.\")\n",
        "\n",
        "    def inquire_balance(self):\n",
        "        print(f\"Current balance: ${self.balance}\")\n",
        "\n",
        "\n",
        "class SavingsAccount(BankAccount):\n",
        "    def __init__(self, account_number, account_holder, balance=0, interest_rate=0.02):\n",
        "        super().__init__(account_number, account_holder, balance)\n",
        "        self.interest_rate = interest_rate\n",
        "\n",
        "    def add_interest(self):\n",
        "        interest = self.balance * self.interest_rate\n",
        "        self.balance += interest\n",
        "        print(f\"Interest added: ${interest}. New balance: ${self.balance}\")\n",
        "\n",
        "\n",
        "class CheckingAccount(BankAccount):\n",
        "    def __init__(self, account_number, account_holder, balance=0, overdraft_limit=100):\n",
        "        super().__init__(account_number, account_holder, balance)\n",
        "        self.overdraft_limit = overdraft_limit\n",
        "\n",
        "    def withdraw(self, amount):\n",
        "        if amount > 0 and amount <= self.balance + self.overdraft_limit:\n",
        "            self.balance -= amount\n",
        "            print(f\"Withdrew ${amount}. New balance: ${self.balance}\")\n",
        "        else:\n",
        "            print(\"Insufficient balance or exceeds overdraft limit.\")\n",
        "\n",
        "\n",
        "\n",
        "savings = SavingsAccount(\"001\", \"Alice\", 500)\n",
        "checking = CheckingAccount(\"002\", \"Bob\", 300)\n",
        "\n",
        "    \n",
        "print(\"\\n--- Savings Account ---\")\n",
        "savings.deposit(200)\n",
        "savings.withdraw(100)\n",
        "savings.add_interest()\n",
        "savings.inquire_balance()\n",
        "\n",
        "    \n",
        "print(\"\\n--- Checking Account ---\")\n",
        "checking.deposit(150)\n",
        "checking.withdraw(400)  \n",
        "checking.withdraw(200)  \n",
        "checking.inquire_balance()"
      ]
    },
    {
      "cell_type": "markdown",
      "metadata": {},
      "source": [
        "5.Write a Python program that models different animals and their sounds. Design a base class called\n",
        "`Animal` with a method `mae_sound()`. Create subclasses lie `Dog` and `Cat` that override the\n",
        "`mae_sound()` method to produce appropriate sounds.\n",
        "Tasks\n",
        "1. Define the `Animal` class with a method `make_sound()`\n",
        "2. Create subclasses `Dog` and `Cat` that override the `make_sound()` method\n",
        "3. Implement the sound generation logic for each subclass\n",
        "4. Test the program by creating instances of `Dog` and `Cat` and calling the `make_sound()` method."
      ]
    },
    {
      "cell_type": "code",
      "execution_count": 6,
      "metadata": {},
      "outputs": [
        {
          "name": "stdout",
          "output_type": "stream",
          "text": [
            "Woof!\n",
            "Meow!\n"
          ]
        }
      ],
      "source": [
        "class Animal:\n",
        "    def make_sound(self):\n",
        "        print(\"Generic animal sound\")\n",
        "\n",
        "\n",
        "class Dog(Animal):\n",
        "    def make_sound(self):\n",
        "        print(\"Woof!\")\n",
        "\n",
        "\n",
        "class Cat(Animal):\n",
        "    def make_sound(self):\n",
        "        print(\"Meow!\")\n",
        "\n",
        "dog = Dog()\n",
        "cat = Cat()\n",
        "\n",
        "dog.make_sound()\n",
        "cat.make_sound()"
      ]
    },
    {
      "cell_type": "markdown",
      "metadata": {},
      "source": [
        "6.Write a code for Restaurant Management System Using OOPS \n",
        " 1. Create a MenuItem class that has attributes such as name, description, price, and category  \n",
        " 2. Implement methods to add a new menu item, update menu item information, and remove a menu item from the menu  \n",
        " 3. Use encapsulation to hide the menu item's unique identification number \n",
        " 4. Inherit from the MenuItem class to create a FoodItem class and a BeverageItem class, each with their own specific attributes and methods."
      ]
    },
    {
      "cell_type": "code",
      "execution_count": 15,
      "metadata": {},
      "outputs": [
        {
          "name": "stdout",
          "output_type": "stream",
          "text": [
            "Pizza Delicious Italian pizza 15.99 Main Course\n",
            "Coke Refreshing carbonated drink 2.99 Beverages\n",
            "Pizza Delicious Italian pizza 17.99 Main Course\n",
            "Coke Refreshing carbonated drink 2.99 Beverages\n",
            "Pizza Delicious Italian pizza 17.99 Main Course\n"
          ]
        }
      ],
      "source": [
        "class MenuItem:\n",
        "    def __init__(self, name, description, price, category):\n",
        "        self.__id = id(self)  \n",
        "        self.__name = name\n",
        "        self.__description = description\n",
        "        self.__price = price\n",
        "        self.__category = category\n",
        "\n",
        "    def get_id(self):\n",
        "        return self.__id\n",
        "\n",
        "    def get_name(self):\n",
        "        return self.__name\n",
        "\n",
        "    def get_description(self):\n",
        "        return self.__description\n",
        "\n",
        "    def get_price(self):\n",
        "        return self.__price\n",
        "\n",
        "    def get_category(self):\n",
        "        return self.__category\n",
        "\n",
        "    def set_price(self, price):\n",
        "        self.__price = price\n",
        "\n",
        "    def set_description(self, description):\n",
        "        self.__description = description\n",
        "\n",
        "\n",
        "class FoodItem(MenuItem):\n",
        "    def __init__(self, name, description, price, category, cuisine):\n",
        "        super().__init__(name, description, price, category)\n",
        "        self.__cuisine = cuisine\n",
        "\n",
        "    def get_cuisine(self):\n",
        "        return self.__cuisine\n",
        "\n",
        "\n",
        "class BeverageItem(MenuItem):\n",
        "    def __init__(self, name, description, price, category, size):\n",
        "        super().__init__(name, description, price, category)\n",
        "        self.__size = size\n",
        "\n",
        "    def get_size(self):\n",
        "        return self.__size\n",
        "\n",
        "\n",
        "class RestaurantMenu:\n",
        "    def __init__(self):\n",
        "        self.__menu_items = []\n",
        "\n",
        "    def add_menu_item(self, item):\n",
        "        self.__menu_items.append(item)\n",
        "\n",
        "    def update_menu_item(self, item_id, new_price=None, new_description=None):\n",
        "        for item in self.__menu_items:\n",
        "            if item.get_id() == item_id:\n",
        "                if new_price:\n",
        "                    item.set_price(new_price)\n",
        "                if new_description:\n",
        "                    item.set_description(new_description)\n",
        "                break\n",
        "\n",
        "    def remove_menu_item(self, item_id):\n",
        "        for i, item in enumerate(self.__menu_items):\n",
        "            if item.get_id() == item_id:\n",
        "                del self.__menu_items[i]\n",
        "                break\n",
        "\n",
        "    def get_menu_items(self):\n",
        "        return self.__menu_items\n",
        "\n",
        "menu = RestaurantMenu()\n",
        "\n",
        "food_item1 = FoodItem(\"Pizza\", \"Delicious Italian pizza\", 15.99, \"Main Course\", \"Italian\")\n",
        "beverage_item1 = BeverageItem(\"Coke\", \"Refreshing carbonated drink\", 2.99, \"Beverages\", \"Large\")\n",
        "\n",
        "menu.add_menu_item(food_item1)\n",
        "menu.add_menu_item(beverage_item1)\n",
        "\n",
        "f = menu.get_menu_items()\n",
        "for i in f:\n",
        "    print(i.get_name(), i.get_description(), i.get_price(), i.get_category())\n",
        "\n",
        "menu.update_menu_item(food_item1.get_id(), new_price=17.99)\n",
        "\n",
        "g = menu.get_menu_items()\n",
        "for i in g:\n",
        "    print(i.get_name(), i.get_description(), i.get_price(), i.get_category())\n",
        "\n",
        "menu.remove_menu_item(beverage_item1.get_id())\n",
        "\n",
        "remaining_items = menu.get_menu_items()\n",
        "for item in remaining_items:\n",
        "    print(item.get_name(), item.get_description(), item.get_price(), item.get_category())"
      ]
    },
    {
      "cell_type": "markdown",
      "metadata": {},
      "source": [
        "7).Write a code for Hotel Management System using OOPS\n",
        " 1. Create a Room class that has attributes such as room number, room type, rate, and availability (private)\n",
        " 2. Implement methods to book a room, check in a guest, and check out a guest\n",
        " 3. Use encapsulation to hide the room's unique identification number\n",
        " 4. Inherit from the Room class to create a SuiteRoom class and a StandardRoom class, each with their own specific attributes and methods."
      ]
    },
    {
      "cell_type": "code",
      "execution_count": 16,
      "metadata": {},
      "outputs": [
        {
          "name": "stdout",
          "output_type": "stream",
          "text": [
            "\n",
            "--- Room Information ---\n",
            "Room ID: 1 | Room Number: 101 | Type: Standard | Rate: $150/night | Status: Available | Bed Type: Queen Bed\n",
            "Room ID: 2 | Room Number: 102 | Type: Standard | Rate: $130/night | Status: Available | Bed Type: Twin Bed\n",
            "Room ID: 3 | Room Number: 201 | Type: Suite | Rate: $300/night | Status: Available | Suite Size: 500 square feet\n",
            "\n",
            "--- Booking Rooms ---\n",
            "Room 101 has been booked.\n",
            "Room 102 has been booked.\n",
            "Room 201 has been booked.\n",
            "\n",
            "--- Checking in Guests ---\n",
            "Guest checked into room 101.\n",
            "Guest checked into room 201.\n",
            "\n",
            "--- Attempting to Rebook a Room ---\n",
            "Room 101 is already booked.\n",
            "\n",
            "--- Checking out Guests ---\n",
            "Guest checked out from room 101. Room is now available.\n",
            "Guest checked out from room 201. Room is now available.\n",
            "\n",
            "--- Final Room Information ---\n",
            "Room ID: 1 | Room Number: 101 | Type: Standard | Rate: $150/night | Status: Available | Bed Type: Queen Bed\n",
            "Room ID: 2 | Room Number: 102 | Type: Standard | Rate: $130/night | Status: Booked | Bed Type: Twin Bed\n",
            "Room ID: 3 | Room Number: 201 | Type: Suite | Rate: $300/night | Status: Available | Suite Size: 500 square feet\n"
          ]
        }
      ],
      "source": [
        "class Room:\n",
        "    _id_counter = 1  \n",
        "\n",
        "    def __init__(self, room_number, room_type, rate):\n",
        "        self.__room_id = Room._id_counter \n",
        "        Room._id_counter += 1  \n",
        "        self.room_number = room_number\n",
        "        self.room_type = room_type\n",
        "        self.rate = rate\n",
        "        self.__is_available = True  \n",
        "\n",
        "    def get_room_id(self):\n",
        "        return self.__room_id  \n",
        "\n",
        "    def check_availability(self):\n",
        "        return self.__is_available  \n",
        "\n",
        "    def book_room(self):\n",
        "        if self.__is_available:\n",
        "            self.__is_available = False\n",
        "            print(f\"Room {self.room_number} has been booked.\")\n",
        "        else:\n",
        "            print(f\"Room {self.room_number} is already booked.\")\n",
        "\n",
        "    def check_in_guest(self):\n",
        "        if not self.__is_available:\n",
        "            print(f\"Guest checked into room {self.room_number}.\")\n",
        "        else:\n",
        "            print(f\"Room {self.room_number} is not booked yet.\")\n",
        "\n",
        "    def check_out_guest(self):\n",
        "        if not self.__is_available:\n",
        "            self.__is_available = True\n",
        "            print(f\"Guest checked out from room {self.room_number}. Room is now available.\")\n",
        "        else:\n",
        "            print(f\"Room {self.room_number} is already available.\")\n",
        "\n",
        "    def __str__(self):\n",
        "        availability = \"Available\" if self.__is_available else \"Booked\"\n",
        "        return f\"Room ID: {self.__room_id} | Room Number: {self.room_number} | Type: {self.room_type} | Rate: ${self.rate}/night | Status: {availability}\"\n",
        "\n",
        "\n",
        "\n",
        "class StandardRoom(Room):\n",
        "    def __init__(self, room_number, rate, bed_type):\n",
        "        super().__init__(room_number, \"Standard\", rate)\n",
        "        self.bed_type = bed_type  \n",
        "\n",
        "    def __str__(self):\n",
        "        return super().__str__() + f\" | Bed Type: {self.bed_type}\"\n",
        "\n",
        "\n",
        "class SuiteRoom(Room):\n",
        "    def __init__(self, room_number, rate, suite_size):\n",
        "        super().__init__(room_number, \"Suite\", rate)\n",
        "        self.suite_size = suite_size  \n",
        "\n",
        "    def __str__(self):\n",
        "        return super().__str__() + f\" | Suite Size: {self.suite_size} square feet\"\n",
        "\n",
        "\n",
        "def test_hotel_management_system():\n",
        "    room101 = StandardRoom(101, 150, \"Queen Bed\")\n",
        "    room102 = StandardRoom(102, 130, \"Twin Bed\")\n",
        "    room201 = SuiteRoom(201, 300, 500)\n",
        "\n",
        "    print(\"\\n--- Room Information ---\")\n",
        "    print(room101)\n",
        "    print(room102)\n",
        "    print(room201)\n",
        "\n",
        "    print(\"\\n--- Booking Rooms ---\")\n",
        "    room101.book_room()\n",
        "    room102.book_room()\n",
        "    room201.book_room()\n",
        "\n",
        "    print(\"\\n--- Checking in Guests ---\")\n",
        "    room101.check_in_guest()\n",
        "    room201.check_in_guest()\n",
        "\n",
        "    print(\"\\n--- Attempting to Rebook a Room ---\")\n",
        "    room101.book_room()\n",
        "\n",
        "    print(\"\\n--- Checking out Guests ---\")\n",
        "    room101.check_out_guest()\n",
        "    room201.check_out_guest()\n",
        "\n",
        "    print(\"\\n--- Final Room Information ---\")\n",
        "    print(room101)\n",
        "    print(room102)\n",
        "    print(room201)\n",
        "\n",
        "test_hotel_management_system()\n"
      ]
    },
    {
      "cell_type": "markdown",
      "metadata": {},
      "source": [
        "8.Write a code for Fitness Club Management System using OOPS \n",
        " 1. Create a Member class that has attributes such as name, age, membership type, and membership status (private)\n",
        " 2. Implement methods to register a new member, renew a membership, and cancel a membership\n",
        " 3. Use encapsulation to hide the member's unique identification number\n",
        " 4. Inherit from the Member class to create a FamilyMember class and an IndividualMember class, each with their own specific attributes and methods"
      ]
    },
    {
      "cell_type": "code",
      "execution_count": 18,
      "metadata": {},
      "outputs": [
        {
          "name": "stdout",
          "output_type": "stream",
          "text": [
            "\n",
            "--- Member Information ---\n",
            "Member ID: 1 | Name: John Doe | Age: 30 | Membership Type: Gold | Status: Active | Personal Trainer: Yes\n",
            "Member ID: 2 | Name: Emily Smith | Age: 45 | Membership Type: Platinum | Status: Active | Family Members: Alice Smith, Bob Smith\n",
            "\n",
            "--- Registering Members ---\n",
            "Member John Doe has been registered with Gold membership.\n",
            "Member Emily Smith has been registered with Platinum membership.\n",
            "\n",
            "--- Renewing Memberships ---\n",
            "Membership for John Doe has been renewed.\n",
            "Membership for Emily Smith has been renewed.\n",
            "\n",
            "--- Canceling Memberships ---\n",
            "Membership for John Doe has been canceled.\n",
            "Membership for Emily Smith has been canceled.\n",
            "\n",
            "--- Trying to Renew a Canceled Membership ---\n",
            "Cannot renew. Membership for John Doe is inactive.\n",
            "\n",
            "--- Final Member Information ---\n",
            "Member ID: 1 | Name: John Doe | Age: 30 | Membership Type: Gold | Status: Inactive | Personal Trainer: Yes\n",
            "Member ID: 2 | Name: Emily Smith | Age: 45 | Membership Type: Platinum | Status: Inactive | Family Members: Alice Smith, Bob Smith\n"
          ]
        }
      ],
      "source": [
        "class Member:\n",
        "    _id_counter = 1  \n",
        "\n",
        "    def __init__(self, name, age, membership_type):\n",
        "        self.__member_id = Member._id_counter  \n",
        "        Member._id_counter += 1  \n",
        "        self.name = name\n",
        "        self.age = age\n",
        "        self.membership_type = membership_type\n",
        "        self.__is_active = True  \n",
        "\n",
        "    def get_member_id(self):\n",
        "        return self.__member_id  \n",
        "\n",
        "    def get_membership_status(self):\n",
        "        return \"Active\" if self.__is_active else \"Inactive\"  \n",
        "\n",
        "    def register(self):\n",
        "        self.__is_active = True\n",
        "        print(f\"Member {self.name} has been registered with {self.membership_type} membership.\")\n",
        "\n",
        "    def renew_membership(self):\n",
        "        if self.__is_active:\n",
        "            print(f\"Membership for {self.name} has been renewed.\")\n",
        "        else:\n",
        "            print(f\"Cannot renew. Membership for {self.name} is inactive.\")\n",
        "\n",
        "    def cancel_membership(self):\n",
        "        if self.__is_active:\n",
        "            self.__is_active = False\n",
        "            print(f\"Membership for {self.name} has been canceled.\")\n",
        "        else:\n",
        "            print(f\"Membership for {self.name} is already inactive.\")\n",
        "\n",
        "    def __str__(self):\n",
        "        status = self.get_membership_status()\n",
        "        return f\"Member ID: {self.__member_id} | Name: {self.name} | Age: {self.age} | Membership Type: {self.membership_type} | Status: {status}\"\n",
        "\n",
        "\n",
        "class IndividualMember(Member):\n",
        "    def __init__(self, name, age, membership_type, personal_trainer=False):\n",
        "        super().__init__(name, age, membership_type)\n",
        "        self.personal_trainer = personal_trainer  \n",
        "    def __str__(self):\n",
        "        trainer_status = \"Yes\" if self.personal_trainer else \"No\"\n",
        "        return super().__str__() + f\" | Personal Trainer: {trainer_status}\"\n",
        "\n",
        "\n",
        "class FamilyMember(Member):\n",
        "    def __init__(self, name, age, membership_type, family_members):\n",
        "        super().__init__(name, age, membership_type)\n",
        "        self.family_members = family_members  \n",
        "\n",
        "    def __str__(self):\n",
        "        return super().__str__() + f\" | Family Members: {', '.join(self.family_members)}\"\n",
        "\n",
        "\n",
        "def test_fitness_club_management_system():\n",
        "\n",
        "    john = IndividualMember(\"John Doe\", 30, \"Gold\", personal_trainer=True)\n",
        "    emily = FamilyMember(\"Emily Smith\", 45, \"Platinum\", family_members=[\"Alice Smith\", \"Bob Smith\"])\n",
        "\n",
        "    print(\"\\n--- Member Information ---\")\n",
        "    print(john)\n",
        "    print(emily)\n",
        "\n",
        "    print(\"\\n--- Registering Members ---\")\n",
        "    john.register()\n",
        "    emily.register()\n",
        "\n",
        "    print(\"\\n--- Renewing Memberships ---\")\n",
        "    john.renew_membership()\n",
        "    emily.renew_membership()\n",
        "\n",
        "    print(\"\\n--- Canceling Memberships ---\")\n",
        "    john.cancel_membership()\n",
        "    emily.cancel_membership()\n",
        "\n",
        "    print(\"\\n--- Trying to Renew a Canceled Membership ---\")\n",
        "    john.renew_membership()\n",
        "\n",
        "    print(\"\\n--- Final Member Information ---\")\n",
        "    print(john)\n",
        "    print(emily)\n",
        "\n",
        "test_fitness_club_management_system()\n"
      ]
    },
    {
      "cell_type": "markdown",
      "metadata": {},
      "source": [
        "9.Write a code for Event Management System using OOPS\n",
        " 1. Create an Event class that has attributes such as name, date, time, location, and list of attendees (private)\n",
        " 2. Implement methods to create a new event, add or remove attendees, and get the total number of attendees\n",
        " 3. Use encapsulation to hide the event's unique identification number\n",
        " 4. Inherit from the Event class to create a PrivateEvent class and a PublicEvent class, each with their own specific attributes and methods."
      ]
    },
    {
      "cell_type": "code",
      "execution_count": 22,
      "metadata": {},
      "outputs": [
        {
          "name": "stdout",
          "output_type": "stream",
          "text": [
            "\n",
            "--- Event Information ---\n",
            "Event ID: 1 | Name: Birthday Party | Date: 2024-09-12 | Time: 18:00 | Location: John's House | Total Attendees: 0 | Event Type: Private (Invite Only)\n",
            "Event ID: 2 | Name: Music Concert | Date: 2024-10-05 | Time: 20:00 | Location: City Stadium | Total Attendees: 0 | Event Type: Public | Max Capacity: 500\n",
            "\n",
            "--- Adding Attendees ---\n",
            "Alice has been added to the event.\n",
            "Bob has been added to the event.\n",
            "John Doe has been added to the event.\n",
            "Jane Smith has been added to the event.\n",
            "\n",
            "--- Updated Event Information ---\n",
            "Event ID: 1 | Name: Birthday Party | Date: 2024-09-12 | Time: 18:00 | Location: John's House | Total Attendees: 2 | Event Type: Private (Invite Only)\n",
            "Event ID: 2 | Name: Music Concert | Date: 2024-10-05 | Time: 20:00 | Location: City Stadium | Total Attendees: 2 | Event Type: Public | Max Capacity: 500\n",
            "\n",
            "--- Modifying Attendees ---\n",
            "Bob has been removed from the event.\n",
            "Emily Jones has been added to the event.\n",
            "Attendee 3 has been added to the event.\n",
            "Attendee 4 has been added to the event.\n",
            "Attendee 5 has been added to the event.\n",
            "Attendee 6 has been added to the event.\n",
            "Attendee 7 has been added to the event.\n",
            "Attendee 8 has been added to the event.\n",
            "Attendee 9 has been added to the event.\n",
            "Attendee 10 has been added to the event.\n",
            "Attendee 11 has been added to the event.\n",
            "Attendee 12 has been added to the event.\n",
            "Attendee 13 has been added to the event.\n",
            "Attendee 14 has been added to the event.\n",
            "Attendee 15 has been added to the event.\n",
            "Attendee 16 has been added to the event.\n",
            "Attendee 17 has been added to the event.\n",
            "Attendee 18 has been added to the event.\n",
            "Attendee 19 has been added to the event.\n",
            "Attendee 20 has been added to the event.\n",
            "Attendee 21 has been added to the event.\n",
            "Attendee 22 has been added to the event.\n",
            "Attendee 23 has been added to the event.\n",
            "Attendee 24 has been added to the event.\n",
            "Attendee 25 has been added to the event.\n",
            "Attendee 26 has been added to the event.\n",
            "Attendee 27 has been added to the event.\n",
            "\n",
            "--- Final Event Information ---\n",
            "Event ID: 1 | Name: Birthday Party | Date: 2024-09-12 | Time: 18:00 | Location: John's House | Total Attendees: 1 | Event Type: Private (Invite Only)\n",
            "Event ID: 2 | Name: Music Concert | Date: 2024-10-05 | Time: 20:00 | Location: City Stadium | Total Attendees: 28 | Event Type: Public | Max Capacity: 500\n"
          ]
        }
      ],
      "source": [
        "class Event:\n",
        "    _id_counter = 1  \n",
        "\n",
        "    def __init__(self, name, date, time, location):\n",
        "        self.__event_id = Event._id_counter  \n",
        "        Event._id_counter += 1 \n",
        "        self.name = name\n",
        "        self.date = date\n",
        "        self.time = time\n",
        "        self.location = location\n",
        "        self.__attendees = []  \n",
        "\n",
        "    def get_event_id(self):\n",
        "        return self.__event_id \n",
        "\n",
        "    def add_attendee(self, attendee_name):\n",
        "        if attendee_name not in self.__attendees:\n",
        "            self.__attendees.append(attendee_name)\n",
        "            print(f\"{attendee_name} has been added to the event.\")\n",
        "        else:\n",
        "            print(f\"{attendee_name} is already attending the event.\")\n",
        "\n",
        "    def remove_attendee(self, attendee_name):\n",
        "        if attendee_name in self.__attendees:\n",
        "            self.__attendees.remove(attendee_name)\n",
        "            print(f\"{attendee_name} has been removed from the event.\")\n",
        "        else:\n",
        "            print(f\"{attendee_name} is not attending the event.\")\n",
        "\n",
        "    def get_total_attendees(self):\n",
        "        return len(self.__attendees)  \n",
        "\n",
        "    def __str__(self):\n",
        "        return f\"Event ID: {self.__event_id} | Name: {self.name} | Date: {self.date} | Time: {self.time} | Location: {self.location} | Total Attendees: {self.get_total_attendees()}\"\n",
        "\n",
        "\n",
        "class PrivateEvent(Event):\n",
        "    def __init__(self, name, date, time, location, invite_only=True):\n",
        "        super().__init__(name, date, time, location)\n",
        "        self.invite_only = invite_only  \n",
        "    def __str__(self):\n",
        "        invite_status = \"Invite Only\" if self.invite_only else \"Open to All\"\n",
        "        return super().__str__() + f\" | Event Type: Private ({invite_status})\"\n",
        "\n",
        "\n",
        "class PublicEvent(Event):\n",
        "    def __init__(self, name, date, time, location, max_capacity):\n",
        "        super().__init__(name, date, time, location)\n",
        "        self.max_capacity = max_capacity  \n",
        "\n",
        "    def add_attendee(self, attendee_name):\n",
        "        if self.get_total_attendees() < self.max_capacity:\n",
        "            super().add_attendee(attendee_name)\n",
        "        else:\n",
        "            print(f\"Cannot add {attendee_name}. The event has reached its maximum capacity of {self.max_capacity}.\")\n",
        "\n",
        "    def __str__(self):\n",
        "        return super().__str__() + f\" | Event Type: Public | Max Capacity: {self.max_capacity}\"\n",
        "\n",
        "\n",
        "def test_event_management_system():\n",
        "    \n",
        "    birthday_party = PrivateEvent(\"Birthday Party\", \"2024-09-12\", \"18:00\", \"John's House\", invite_only=True)\n",
        "    music_concert = PublicEvent(\"Music Concert\", \"2024-10-05\", \"20:00\", \"City Stadium\", max_capacity=500)\n",
        "\n",
        "    print(\"\\n--- Event Information ---\")\n",
        "    print(birthday_party)\n",
        "    print(music_concert)\n",
        "\n",
        "    print(\"\\n--- Adding Attendees ---\")\n",
        "    birthday_party.add_attendee(\"Alice\")\n",
        "    birthday_party.add_attendee(\"Bob\")\n",
        "    music_concert.add_attendee(\"John Doe\")\n",
        "    music_concert.add_attendee(\"Jane Smith\")\n",
        "\n",
        "    print(\"\\n--- Updated Event Information ---\")\n",
        "    print(birthday_party)\n",
        "    print(music_concert)\n",
        "\n",
        "    print(\"\\n--- Modifying Attendees ---\")\n",
        "    birthday_party.remove_attendee(\"Bob\")\n",
        "    music_concert.add_attendee(\"Emily Jones\")\n",
        "\n",
        "    for i in range(25): \n",
        "        music_concert.add_attendee(f\"Attendee {i + 3}\")\n",
        "\n",
        "    print(\"\\n--- Final Event Information ---\")\n",
        "    print(birthday_party)\n",
        "    print(music_concert)\n",
        "\n",
        "test_event_management_system()\n"
      ]
    },
    {
      "cell_type": "markdown",
      "metadata": {},
      "source": [
        "10.Write a code for Airline Reservation System using OOPS\n",
        " 1. Create a Flight class that has attributes such as flight number, departure and arrival airports, departure and arrival times, and available seats (private)\n",
        " 2. Implement methods to book a seat, cancel a reservation, and get the remaining available seats\n",
        " 3. Use encapsulation to hide the flight's unique identification number\n",
        " 4. Inherit from the Flight class to create a DomesticFlight class and an InternationalFlight class, each with their own specific attributes and methods."
      ]
    },
    {
      "cell_type": "code",
      "execution_count": 20,
      "metadata": {},
      "outputs": [
        {
          "name": "stdout",
          "output_type": "stream",
          "text": [
            "\n",
            "--- Flight Information ---\n",
            "Flight ID: 1 | Flight Number: FL101 | From: JFK | To: LAX | Departure: 08:00 | Arrival: 11:00 | Available Seats: 150 | Flight Type: Domestic | State Code: CA\n",
            "Flight ID: 2 | Flight Number: FL202 | From: LAX | To: LHR | Departure: 18:00 | Arrival: 06:00 | Available Seats: 300 | Flight Type: International | Country Code: UK\n",
            "\n",
            "--- Booking Seats ---\n",
            "A seat has been booked. Remaining seats: 149\n",
            "A seat has been booked. Remaining seats: 299\n",
            "\n",
            "--- Canceling Reservations ---\n",
            "A reservation has been canceled. Remaining seats: 150\n",
            "A reservation has been canceled. Remaining seats: 300\n",
            "\n",
            "--- Updated Flight Information ---\n",
            "Flight ID: 1 | Flight Number: FL101 | From: JFK | To: LAX | Departure: 08:00 | Arrival: 11:00 | Available Seats: 150 | Flight Type: Domestic | State Code: CA\n",
            "Flight ID: 2 | Flight Number: FL202 | From: LAX | To: LHR | Departure: 18:00 | Arrival: 06:00 | Available Seats: 300 | Flight Type: International | Country Code: UK\n"
          ]
        }
      ],
      "source": [
        "class Flight:\n",
        "    _id_counter = 1  \n",
        "\n",
        "    def __init__(self, flight_number, departure_airport, arrival_airport, departure_time, arrival_time, total_seats):\n",
        "        self.__flight_id = Flight._id_counter  \n",
        "        Flight._id_counter += 1  \n",
        "        self.flight_number = flight_number\n",
        "        self.departure_airport = departure_airport\n",
        "        self.arrival_airport = arrival_airport\n",
        "        self.departure_time = departure_time\n",
        "        self.arrival_time = arrival_time\n",
        "        self.__available_seats = total_seats  \n",
        "\n",
        "    def get_flight_id(self):\n",
        "        return self.__flight_id  \n",
        "\n",
        "    def get_available_seats(self):\n",
        "        return self.__available_seats  \n",
        "\n",
        "    def book_seat(self):\n",
        "        if self.__available_seats > 0:\n",
        "            self.__available_seats -= 1\n",
        "            print(f\"A seat has been booked. Remaining seats: {self.__available_seats}\")\n",
        "        else:\n",
        "            print(\"No seats available for booking.\")\n",
        "\n",
        "    def cancel_reservation(self):\n",
        "        self.__available_seats += 1\n",
        "        print(f\"A reservation has been canceled. Remaining seats: {self.__available_seats}\")\n",
        "\n",
        "    def __str__(self):\n",
        "        return f\"Flight ID: {self.__flight_id} | Flight Number: {self.flight_number} | From: {self.departure_airport} | To: {self.arrival_airport} | Departure: {self.departure_time} | Arrival: {self.arrival_time} | Available Seats: {self.get_available_seats()}\"\n",
        "\n",
        "class DomesticFlight(Flight):\n",
        "    def __init__(self, flight_number, departure_airport, arrival_airport, departure_time, arrival_time, total_seats, state_code):\n",
        "        super().__init__(flight_number, departure_airport, arrival_airport, departure_time, arrival_time, total_seats)\n",
        "        self.state_code = state_code  \n",
        "\n",
        "    def __str__(self):\n",
        "        return super().__str__() + f\" | Flight Type: Domestic | State Code: {self.state_code}\"\n",
        "\n",
        "\n",
        "class InternationalFlight(Flight):\n",
        "    def __init__(self, flight_number, departure_airport, arrival_airport, departure_time, arrival_time, total_seats, country_code):\n",
        "        super().__init__(flight_number, departure_airport, arrival_airport, departure_time, arrival_time, total_seats)\n",
        "        self.country_code = country_code  \n",
        "\n",
        "    def __str__(self):\n",
        "        return super().__str__() + f\" | Flight Type: International | Country Code: {self.country_code}\"\n",
        "\n",
        "def test_airline_reservation_system():\n",
        "    \n",
        "    flight101 = DomesticFlight(\"FL101\", \"JFK\", \"LAX\", \"08:00\", \"11:00\", 150, \"CA\")\n",
        "    flight202 = InternationalFlight(\"FL202\", \"LAX\", \"LHR\", \"18:00\", \"06:00\", 300, \"UK\")\n",
        "\n",
        "    print(\"\\n--- Flight Information ---\")\n",
        "    print(flight101)\n",
        "    print(flight202)\n",
        "\n",
        "    print(\"\\n--- Booking Seats ---\")\n",
        "    flight101.book_seat()\n",
        "    flight202.book_seat()\n",
        "\n",
        "    print(\"\\n--- Canceling Reservations ---\")\n",
        "    flight101.cancel_reservation()\n",
        "    flight202.cancel_reservation()\n",
        "\n",
        "    print(\"\\n--- Updated Flight Information ---\")\n",
        "    print(flight101)\n",
        "    print(flight202)\n",
        "\n",
        "test_airline_reservation_system()\n"
      ]
    }
  ],
  "metadata": {
    "colab": {
      "provenance": []
    },
    "kernelspec": {
      "display_name": "Python 3",
      "name": "python3"
    },
    "language_info": {
      "codemirror_mode": {
        "name": "ipython",
        "version": 3
      },
      "file_extension": ".py",
      "mimetype": "text/x-python",
      "name": "python",
      "nbconvert_exporter": "python",
      "pygments_lexer": "ipython3",
      "version": "3.11.7"
    }
  },
  "nbformat": 4,
  "nbformat_minor": 0
}
