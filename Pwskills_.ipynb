{
  "cells": [
    {
      "cell_type": "markdown",
      "metadata": {},
      "source": [
        "Question 1.3.\n",
        "name = [\"Mohan\", \"dash\", \"karam\", \"chandra\",\"gandhi\",\"Bapu\"]\n",
        "do the following operations in this list;\n",
        "\n",
        "a) add an element \"freedom_fighter\" in this list at the 0th index.\n",
        "\n",
        "b) find the output of the following ,and explain how?\n",
        "\n",
        "name = [“freedomFighter”,\"Bapuji\",\"MOhan\" \"dash\", \"karam\",\n",
        "\"chandra\",\"gandhi\"]\n",
        "length1=len((name[-len(name)+1:-1:2]))\n",
        "length2=len((name[-len(name)+1:-1]))\n",
        "print(length1+length2)\n",
        "\n",
        "c) add two more elements in the name [\"NetaJi\",\"Bose\"] at the end of the list.\n",
        "\n",
        "d) what will be the value of temp:\n",
        "\n",
        "name = [\"Bapuji\", \"dash\", \"karam\", \"chandra\",\"gandi\",\"Mohan\"]\n",
        "temp=name[-1]\n",
        "name[-1]=name[0]\n",
        "name[0]=temp\n",
        "print(name)"
      ]
    },
    {
      "cell_type": "code",
      "execution_count": 6,
      "metadata": {},
      "outputs": [
        {
          "name": "stdout",
          "output_type": "stream",
          "text": [
            "['freedom_fighter', 'Mohan', 'dash', 'karam', 'chandra', 'gandhi', 'Bapu']\n"
          ]
        }
      ],
      "source": [
        "name = [\"Mohan\", \"dash\", \"karam\", \"chandra\",\"gandhi\",\"Bapu\"]\n",
        "\n",
        "# a) add an element \"freedom_fighter\" in this list at the 0th index.\n",
        "\n",
        "name.insert(0,\"freedom_fighter\")\n",
        "print(name)"
      ]
    },
    {
      "cell_type": "code",
      "execution_count": 7,
      "metadata": {},
      "outputs": [
        {
          "name": "stdout",
          "output_type": "stream",
          "text": [
            "8\n"
          ]
        }
      ],
      "source": [
        "# ''''''b) find the output of the following ,and explain how?\n",
        "\n",
        "# name = [“freedomFighter”,\"Bapuji\",\"MOhan\" \"dash\", \"karam\",\"chandra\",\"gandhi\"]\n",
        "# length1=len((name[-len(name)+1:-1:2]))\n",
        "# length2=len((name[-len(name)+1:-1]))\n",
        "# print(length1+length2)\"\"\"\n",
        "\n",
        "\n",
        "\n",
        "name = [\"freedomFighter\",\"Bapuji\",\"MOhan\" ,\"dash\", \"karam\",\"chandra\",\"gandhi\"]\n",
        "length1=len((name[-len(name)+1:-1:2]))\n",
        "length2=len((name[-len(name)+1:-1]))\n",
        "print(length1+length2)\n",
        "\n",
        "\n",
        "# Explanation:\n",
        "\n",
        "# List Creation:\n",
        "\n",
        "# A list named name is created containing seven elements.\n",
        "# Calculating length1:\n",
        "\n",
        "# name[-len(name)+1] is equivalent to name[0], which is the first element of the list.\n",
        "# name[-1] is the last element of the list.\n",
        "# name[-len(name)+1:-1:2] creates a slice of the list starting from the first element, excluding the last element, and taking every second element. This slice is [\"Bapuji\", \"dash\", \"chandra\"].\n",
        "# len((name[-len(name)+1:-1:2])) calculates the length of this slice, which is 3.\n",
        "# Calculating length2:\n",
        "\n",
        "# name[-len(name)+1:-1] creates a slice of the list starting from the first element, excluding the last element. This slice is [\"Bapuji\", \"Mohan\", \"dash\", \"karam\", \"chandra\"].\n",
        "# len((name[-len(name)+1:-1])) calculates the length of this slice, which is 5.\n",
        "# Calculating length1 + length2:\n",
        "\n",
        "# The sum of length1 (3) and length2 (5) is 8."
      ]
    },
    {
      "cell_type": "code",
      "execution_count": 8,
      "metadata": {},
      "outputs": [
        {
          "name": "stdout",
          "output_type": "stream",
          "text": [
            "['freedomFighter', 'Bapuji', 'MOhan', 'dash', 'karam', 'chandra', 'gandhi', 'Netaji', 'Bose']\n"
          ]
        }
      ],
      "source": [
        "# c) add two more elements in the name [\"NetaJi\",\"Bose\"] at the end of the list.\n",
        "name.append(\"Netaji\")\n",
        "name.append(\"Bose\")\n",
        "print(name)"
      ]
    },
    {
      "cell_type": "code",
      "execution_count": 9,
      "metadata": {},
      "outputs": [
        {
          "name": "stdout",
          "output_type": "stream",
          "text": [
            "['Mohan', 'dash', 'karam', 'chandra', 'gandi', 'Bapuji']\n"
          ]
        }
      ],
      "source": [
        "# d) what will be the value of temp:\n",
        "\n",
        "# name = [\"Bapuji\", \"dash\", \"karam\", \"chandra\",\"gandi\",\"Mohan\"]\n",
        "# temp=name[-1]\n",
        "# name[-1]=name[0]\n",
        "# name[0]=temp\n",
        "# print(name)\n",
        "\n",
        "name = [\"Bapuji\", \"dash\", \"karam\", \"chandra\",\"gandi\",\"Mohan\"]\n",
        "temp=name[-1]\n",
        "name[-1]=name[0]\n",
        "name[0]=temp\n",
        "print(name)\n",
        "\n",
        "# Value of temp is \"Mohan\""
      ]
    },
    {
      "cell_type": "code",
      "execution_count": null,
      "metadata": {},
      "outputs": [],
      "source": []
    }
  ],
  "metadata": {
    "colab": {
      "provenance": []
    },
    "kernelspec": {
      "display_name": "Python 3",
      "name": "python3"
    },
    "language_info": {
      "codemirror_mode": {
        "name": "ipython",
        "version": 3
      },
      "file_extension": ".py",
      "mimetype": "text/x-python",
      "name": "python",
      "nbconvert_exporter": "python",
      "pygments_lexer": "ipython3",
      "version": "3.11.7"
    }
  },
  "nbformat": 4,
  "nbformat_minor": 0
}
