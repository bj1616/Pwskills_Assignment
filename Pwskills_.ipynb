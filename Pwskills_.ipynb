{
  "cells": [
    {
      "cell_type": "markdown",
      "metadata": {},
      "source": [
        "Question 1.3.\n",
        "name = [\"Mohan\", \"dash\", \"karam\", \"chandra\",\"gandhi\",\"Bapu\"]\n",
        "do the following operations in this list;\n",
        "\n",
        "a) add an element \"freedom_fighter\" in this list at the 0th index.\n",
        "\n",
        "b) find the output of the following ,and explain how?\n",
        "\n",
        "name = [“freedomFighter”,\"Bapuji\",\"MOhan\" \"dash\", \"karam\",\n",
        "\"chandra\",\"gandhi\"]\n",
        "length1=len((name[-len(name)+1:-1:2]))\n",
        "length2=len((name[-len(name)+1:-1]))\n",
        "print(length1+length2)\n",
        "\n",
        "c) add two more elements in the name [\"NetaJi\",\"Bose\"] at the end of the list.\n",
        "\n",
        "d) what will be the value of temp:\n",
        "\n",
        "name = [\"Bapuji\", \"dash\", \"karam\", \"chandra\",\"gandi\",\"Mohan\"]\n",
        "temp=name[-1]\n",
        "name[-1]=name[0]\n",
        "name[0]=temp\n",
        "print(name)"
      ]
    },
    {
      "cell_type": "code",
      "execution_count": 6,
      "metadata": {},
      "outputs": [
        {
          "name": "stdout",
          "output_type": "stream",
          "text": [
            "['freedom_fighter', 'Mohan', 'dash', 'karam', 'chandra', 'gandhi', 'Bapu']\n"
          ]
        }
      ],
      "source": [
        "name = [\"Mohan\", \"dash\", \"karam\", \"chandra\",\"gandhi\",\"Bapu\"]\n",
        "\n",
        "# a) add an element \"freedom_fighter\" in this list at the 0th index.\n",
        "\n",
        "name.insert(0,\"freedom_fighter\")\n",
        "print(name)"
      ]
    },
    {
      "cell_type": "code",
      "execution_count": 7,
      "metadata": {},
      "outputs": [
        {
          "name": "stdout",
          "output_type": "stream",
          "text": [
            "8\n"
          ]
        }
      ],
      "source": [
        "# ''''''b) find the output of the following ,and explain how?\n",
        "\n",
        "# name = [“freedomFighter”,\"Bapuji\",\"MOhan\" \"dash\", \"karam\",\"chandra\",\"gandhi\"]\n",
        "# length1=len((name[-len(name)+1:-1:2]))\n",
        "# length2=len((name[-len(name)+1:-1]))\n",
        "# print(length1+length2)\"\"\"\n",
        "\n",
        "\n",
        "\n",
        "name = [\"freedomFighter\",\"Bapuji\",\"MOhan\" ,\"dash\", \"karam\",\"chandra\",\"gandhi\"]\n",
        "length1=len((name[-len(name)+1:-1:2]))\n",
        "length2=len((name[-len(name)+1:-1]))\n",
        "print(length1+length2)\n",
        "\n",
        "\n",
        "# Explanation:\n",
        "\n",
        "# List Creation:\n",
        "\n",
        "# A list named name is created containing seven elements.\n",
        "# Calculating length1:\n",
        "\n",
        "# name[-len(name)+1] is equivalent to name[0], which is the first element of the list.\n",
        "# name[-1] is the last element of the list.\n",
        "# name[-len(name)+1:-1:2] creates a slice of the list starting from the first element, excluding the last element, and taking every second element. This slice is [\"Bapuji\", \"dash\", \"chandra\"].\n",
        "# len((name[-len(name)+1:-1:2])) calculates the length of this slice, which is 3.\n",
        "# Calculating length2:\n",
        "\n",
        "# name[-len(name)+1:-1] creates a slice of the list starting from the first element, excluding the last element. This slice is [\"Bapuji\", \"Mohan\", \"dash\", \"karam\", \"chandra\"].\n",
        "# len((name[-len(name)+1:-1])) calculates the length of this slice, which is 5.\n",
        "# Calculating length1 + length2:\n",
        "\n",
        "# The sum of length1 (3) and length2 (5) is 8."
      ]
    },
    {
      "cell_type": "code",
      "execution_count": 8,
      "metadata": {},
      "outputs": [
        {
          "name": "stdout",
          "output_type": "stream",
          "text": [
            "['freedomFighter', 'Bapuji', 'MOhan', 'dash', 'karam', 'chandra', 'gandhi', 'Netaji', 'Bose']\n"
          ]
        }
      ],
      "source": [
        "# c) add two more elements in the name [\"NetaJi\",\"Bose\"] at the end of the list.\n",
        "name.append(\"Netaji\")\n",
        "name.append(\"Bose\")\n",
        "print(name)"
      ]
    },
    {
      "cell_type": "code",
      "execution_count": 9,
      "metadata": {},
      "outputs": [
        {
          "name": "stdout",
          "output_type": "stream",
          "text": [
            "['Mohan', 'dash', 'karam', 'chandra', 'gandi', 'Bapuji']\n"
          ]
        }
      ],
      "source": [
        "# d) what will be the value of temp:\n",
        "\n",
        "# name = [\"Bapuji\", \"dash\", \"karam\", \"chandra\",\"gandi\",\"Mohan\"]\n",
        "# temp=name[-1]\n",
        "# name[-1]=name[0]\n",
        "# name[0]=temp\n",
        "# print(name)\n",
        "\n",
        "name = [\"Bapuji\", \"dash\", \"karam\", \"chandra\",\"gandi\",\"Mohan\"]\n",
        "temp=name[-1]\n",
        "name[-1]=name[0]\n",
        "name[0]=temp\n",
        "print(name)\n",
        "\n",
        "# Value of temp is \"Mohan\""
      ]
    },
    {
      "cell_type": "markdown",
      "metadata": {},
      "source": [
        "Question 1.4.Find the output of the following.\n",
        "\n",
        "animal = ['Human','cat','mat','cat','rat','Human', 'Lion']\n",
        "\n",
        "print(animal.count('Human'))\n",
        "\n",
        "print(animal.index('rat'))\n",
        "\n",
        "print(len(animal))"
      ]
    },
    {
      "cell_type": "code",
      "execution_count": 10,
      "metadata": {},
      "outputs": [
        {
          "name": "stdout",
          "output_type": "stream",
          "text": [
            "2\n",
            "4\n",
            "7\n"
          ]
        }
      ],
      "source": [
        "animal = ['Human','cat','mat','cat','rat','Human', 'Lion']\n",
        "print(animal.count('Human'))\n",
        "\n",
        "print(animal.index('rat'))\n",
        "\n",
        "print(len(animal))"
      ]
    },
    {
      "cell_type": "markdown",
      "metadata": {},
      "source": [
        "Question 1.5. tuple1=(10,20,\"Apple\",3.4,'a',[\"master\",\"ji\"],(\"sita\",\"geeta\",22),[{\"roll_no\"N1},\n",
        "{\"name\"N\"Navneet\"}])\n",
        "\n",
        "a)Print(len(tuple1)\n",
        "\n",
        "b)Print(tuple1[-1][-1][\"name\"])\n",
        "\n",
        "c)fetch the value of roll_no from this tuple.\n",
        "\n",
        "d)Print(tuple1[-3][1])\n",
        "\n",
        "e)fetch the element \"22\" from this tuple."
      ]
    },
    {
      "cell_type": "code",
      "execution_count": 12,
      "metadata": {},
      "outputs": [
        {
          "name": "stdout",
          "output_type": "stream",
          "text": [
            "8\n",
            "Navneet\n",
            "1\n",
            "ji\n",
            "22\n"
          ]
        }
      ],
      "source": [
        "tuple1=(10,20,\"Apple\",3.4,'a',[\"master\",\"ji\"],(\"sita\",\"geeta\",22),[{\"roll_no\":1},{\"name\":\"Navneet\"}])\n",
        "\n",
        "#a)Print(len(tuple1)\n",
        "print(len(tuple1))\n",
        "\n",
        "#b)Print(tuple1[-1][-1][\"name\"])\n",
        "print(tuple1[-1][-1][\"name\"])\n",
        "\n",
        "#c)fetch the value of roll_no from this tuple.\n",
        "print(tuple1[7][0][\"roll_no\"])\n",
        "\n",
        "#d)Print(tuple1[-3][1])\n",
        "print(tuple1[-3][1])\n",
        "\n",
        "#e)fetch the element \"22\" from this tuple.\n",
        "print(tuple1[6][2])\n",
        "\n"
      ]
    },
    {
      "cell_type": "markdown",
      "metadata": {},
      "source": [
        "1.6. Write a program to display the appropriate message as per the color of signal(RED-Stop/Yellow-Stay/\n",
        "Green-Go) at the road crossing."
      ]
    },
    {
      "cell_type": "code",
      "execution_count": 13,
      "metadata": {},
      "outputs": [
        {
          "name": "stdout",
          "output_type": "stream",
          "text": [
            "Stop\n"
          ]
        }
      ],
      "source": [
        "signal = input(\"Enter the Signal : \")\n",
        "if(signal==\"Red\"):\n",
        "    print(\"Stop\")\n",
        "elif(signal==\"Yellow\"):\n",
        "    print(\"Stay\")\n",
        "elif(signal==\"Green\"):\n",
        "    print(\"Go\")"
      ]
    },
    {
      "cell_type": "markdown",
      "metadata": {},
      "source": [
        "1.7. Write a program to create a simple calculator performing only four basic operations(+,-,/,*) ."
      ]
    },
    {
      "cell_type": "code",
      "execution_count": 15,
      "metadata": {},
      "outputs": [
        {
          "name": "stdout",
          "output_type": "stream",
          "text": [
            "Addition of 8 and 4 is : 12\n",
            "Subtraction of 8 and 4 is : 4\n",
            "Multiplication of 8 and 4 is : 32\n",
            "Division of 8 and 4 is : 2.0\n"
          ]
        }
      ],
      "source": [
        "num1 = int(input(\"Enter the number 1 : \"))\n",
        "num2 = int(input(\"Enter the number 2 : \"))\n",
        "print(f\"Addition of {num1} and {num2} is : {num1+num2}\")\n",
        "print(f\"Subtraction of {num1} and {num2} is : {num1-num2}\")\n",
        "print(f\"Multiplication of {num1} and {num2} is : {num1*num2}\")\n",
        "print(f\"Division of {num1} and {num2} is : {num1/num2}\")"
      ]
    },
    {
      "cell_type": "markdown",
      "metadata": {},
      "source": [
        "1.8. Write a program to find the larger of the three pre-specified numbers using ternary operators."
      ]
    },
    {
      "cell_type": "code",
      "execution_count": 17,
      "metadata": {},
      "outputs": [
        {
          "name": "stdout",
          "output_type": "stream",
          "text": [
            "Largest number from 7, 4 and 2 is 7\n"
          ]
        }
      ],
      "source": [
        "num1 = int(input(\"Enter the first number : \"))\n",
        "num2 = int(input(\"Enter the second number : \"))\n",
        "num3 = int(input(\"Enter the third number : \"))\n",
        "res = num1 if num1>num2 else num2\n",
        "res = res if res>num3 else num3\n",
        "print(f\"Largest number from {num1}, {num2} and {num3} is {res}\")"
      ]
    },
    {
      "cell_type": "markdown",
      "metadata": {},
      "source": [
        "1.9. Write a program to find the factors of a whole number using a while loop."
      ]
    },
    {
      "cell_type": "code",
      "execution_count": 18,
      "metadata": {},
      "outputs": [
        {
          "name": "stdout",
          "output_type": "stream",
          "text": [
            "Factors of 24 are [1, 2, 3, 4, 6, 8, 12, 24]\n"
          ]
        }
      ],
      "source": [
        "factors = []\n",
        "factor = 1\n",
        "num1 = int(input(\"Enter the number : \"))\n",
        "while(factor<=num1):\n",
        "    if(num1%factor==0):\n",
        "        factors.append(factor)\n",
        "    factor = factor+1\n",
        "print(f\"Factors of {num1} are {factors}\")"
      ]
    },
    {
      "cell_type": "markdown",
      "metadata": {},
      "source": [
        "1.10. Write a program to find the sum of all the positive numbers entered by the user. As soon as the user\n",
        "enters a negative number, stop taking in any further input from the user and display the sum ."
      ]
    },
    {
      "cell_type": "code",
      "execution_count": 19,
      "metadata": {},
      "outputs": [
        {
          "name": "stdout",
          "output_type": "stream",
          "text": [
            "Sum of all positive numbers are :  55\n"
          ]
        }
      ],
      "source": [
        "sum = 0\n",
        "while True:\n",
        "    num = int(input(\"Enter the Number : \"))\n",
        "    if(num<0):\n",
        "        break\n",
        "    else:\n",
        "        sum = sum + num \n",
        "print(\"Sum of all positive numbers are : \",sum)"
      ]
    },
    {
      "cell_type": "markdown",
      "metadata": {},
      "source": [
        "1.11. Write a program to find prime numbers between 2 to 100 using nested for loops."
      ]
    },
    {
      "cell_type": "code",
      "execution_count": 20,
      "metadata": {},
      "outputs": [
        {
          "name": "stdout",
          "output_type": "stream",
          "text": [
            "Prime numbers between 2 to 100 are [2, 3, 5, 7, 11, 13, 17, 19, 23, 29, 31, 37, 41, 43, 47, 53, 59, 61, 67, 71, 73, 79, 83, 89, 97]\n"
          ]
        }
      ],
      "source": [
        "primes = []\n",
        "for i in range(2,101):\n",
        "    prime = True\n",
        "    for j in range(2,i):\n",
        "        if(i%j==0):\n",
        "            prime = False\n",
        "            break\n",
        "    if prime:\n",
        "        primes.append(i)\n",
        "print(f\"Prime numbers between 2 to 100 are {primes}\")\n"
      ]
    },
    {
      "cell_type": "markdown",
      "metadata": {},
      "source": [
        "1.12. Write the programs for the following\n",
        "\n",
        " Accept the marks of the student in five major subjects and display the same.\n",
        "\n",
        " Calculate the sum of the marks of all subjects.Divide the total marks by number of subjects (i.e. 5), calculate\n",
        "Percentage = total marks/5 and display the percentage.\n",
        "\n",
        " Find the grade of the student as per the following criteria . Hint: Use Match & case for this.:"
      ]
    },
    {
      "cell_type": "code",
      "execution_count": 23,
      "metadata": {},
      "outputs": [
        {
          "name": "stdout",
          "output_type": "stream",
          "text": [
            "Marks of maths are :  23\n",
            "Marks of science are :  22\n",
            "Marks of english are :  22\n",
            "Marks of pt are :  22\n",
            "Marks of hindi are :  22\n",
            "Sum of all 5 subjects are :  111\n",
            "Marks after Divison is :  22.2\n",
            "Percentage of student is :  22.2\n",
            "Reappear\n"
          ]
        }
      ],
      "source": [
        "maths = int(input(\"Enter the marks of Maths : \"))\n",
        "science = int(input(\"Enter the marks of Science : \"))\n",
        "english = int(input(\"Enter the marks of english : \"))\n",
        "pt = int(input(\"Enter the marks of PT : \"))\n",
        "hindi = int(input(\"Enter the marks of Hindi : \"))\n",
        "print(\"Marks of maths are : \", maths)\n",
        "print(\"Marks of science are : \", science)\n",
        "print(\"Marks of english are : \", english)\n",
        "print(\"Marks of pt are : \", pt)\n",
        "print(\"Marks of hindi are : \", hindi)\n",
        "sum = maths+science+english+pt+hindi\n",
        "print(\"Sum of all 5 subjects are : \", sum)\n",
        "print(\"Marks after Divison is : \" , sum/5)\n",
        "percentage = (sum/5)\n",
        "print(\"Percentage of student is : \" , percentage)\n",
        "if(percentage>85):\n",
        "    print(\"A Grade\")\n",
        "elif(percentage<85 and percentage>=75):\n",
        "    print(\"B Grade\")\n",
        "elif(percentage<75 and percentage>=50):\n",
        "    print(\"C Grade\")\n",
        "elif(percentage<50 and percentage>=30):\n",
        "    print(\"D Grade\")\n",
        "elif(percentage<30):\n",
        "    print(\"Reappear\")"
      ]
    },
    {
      "cell_type": "code",
      "execution_count": null,
      "metadata": {},
      "outputs": [],
      "source": []
    },
    {
      "cell_type": "code",
      "execution_count": null,
      "metadata": {},
      "outputs": [],
      "source": []
    }
  ],
  "metadata": {
    "colab": {
      "provenance": []
    },
    "kernelspec": {
      "display_name": "Python 3",
      "name": "python3"
    },
    "language_info": {
      "codemirror_mode": {
        "name": "ipython",
        "version": 3
      },
      "file_extension": ".py",
      "mimetype": "text/x-python",
      "name": "python",
      "nbconvert_exporter": "python",
      "pygments_lexer": "ipython3",
      "version": "3.11.7"
    }
  },
  "nbformat": 4,
  "nbformat_minor": 0
}
